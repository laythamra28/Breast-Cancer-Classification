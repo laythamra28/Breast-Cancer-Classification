{
  "nbformat": 4,
  "nbformat_minor": 0,
  "metadata": {
    "colab": {
      "provenance": [],
      "include_colab_link": true
    },
    "kernelspec": {
      "name": "python3",
      "display_name": "Python 3"
    },
    "language_info": {
      "name": "python"
    },
    "accelerator": "GPU",
    "gpuClass": "standard"
  },
  "cells": [
    {
      "cell_type": "markdown",
      "metadata": {
        "id": "view-in-github",
        "colab_type": "text"
      },
      "source": [
        "<a href=\"https://colab.research.google.com/github/laythamra28/DeepLearning-Project/blob/main/HyperParameter_Tuning.ipynb\" target=\"_parent\"><img src=\"https://colab.research.google.com/assets/colab-badge.svg\" alt=\"Open In Colab\"/></a>"
      ]
    },
    {
      "cell_type": "code",
      "source": [
        "!pip install optuna"
      ],
      "metadata": {
        "colab": {
          "base_uri": "https://localhost:8080/"
        },
        "id": "3YfCvsrbA7Cz",
        "outputId": "6473a0d0-4341-4b48-ed5d-ca2e48a8dc8b"
      },
      "execution_count": null,
      "outputs": [
        {
          "output_type": "stream",
          "name": "stdout",
          "text": [
            "Looking in indexes: https://pypi.org/simple, https://us-python.pkg.dev/colab-wheels/public/simple/\n",
            "Collecting optuna\n",
            "  Downloading optuna-3.0.4-py3-none-any.whl (348 kB)\n",
            "\u001b[K     |████████████████████████████████| 348 kB 11.8 MB/s \n",
            "\u001b[?25hRequirement already satisfied: tqdm in /usr/local/lib/python3.8/dist-packages (from optuna) (4.64.1)\n",
            "Requirement already satisfied: sqlalchemy>=1.3.0 in /usr/local/lib/python3.8/dist-packages (from optuna) (1.4.44)\n",
            "Requirement already satisfied: PyYAML in /usr/local/lib/python3.8/dist-packages (from optuna) (6.0)\n",
            "Requirement already satisfied: numpy in /usr/local/lib/python3.8/dist-packages (from optuna) (1.21.6)\n",
            "Requirement already satisfied: scipy<1.9.0,>=1.7.0 in /usr/local/lib/python3.8/dist-packages (from optuna) (1.7.3)\n",
            "Requirement already satisfied: importlib-metadata<5.0.0 in /usr/local/lib/python3.8/dist-packages (from optuna) (4.13.0)\n",
            "Requirement already satisfied: packaging>=20.0 in /usr/local/lib/python3.8/dist-packages (from optuna) (21.3)\n",
            "Collecting alembic>=1.5.0\n",
            "  Downloading alembic-1.8.1-py3-none-any.whl (209 kB)\n",
            "\u001b[K     |████████████████████████████████| 209 kB 4.7 MB/s \n",
            "\u001b[?25hCollecting cliff\n",
            "  Downloading cliff-4.1.0-py3-none-any.whl (81 kB)\n",
            "\u001b[K     |████████████████████████████████| 81 kB 3.6 MB/s \n",
            "\u001b[?25hCollecting colorlog\n",
            "  Downloading colorlog-6.7.0-py2.py3-none-any.whl (11 kB)\n",
            "Collecting cmaes>=0.8.2\n",
            "  Downloading cmaes-0.9.0-py3-none-any.whl (23 kB)\n",
            "Collecting Mako\n",
            "  Downloading Mako-1.2.4-py3-none-any.whl (78 kB)\n",
            "\u001b[K     |████████████████████████████████| 78 kB 1.8 MB/s \n",
            "\u001b[?25hRequirement already satisfied: importlib-resources in /usr/local/lib/python3.8/dist-packages (from alembic>=1.5.0->optuna) (5.10.0)\n",
            "Requirement already satisfied: zipp>=0.5 in /usr/local/lib/python3.8/dist-packages (from importlib-metadata<5.0.0->optuna) (3.11.0)\n",
            "Requirement already satisfied: pyparsing!=3.0.5,>=2.0.2 in /usr/local/lib/python3.8/dist-packages (from packaging>=20.0->optuna) (3.0.9)\n",
            "Requirement already satisfied: greenlet!=0.4.17 in /usr/local/lib/python3.8/dist-packages (from sqlalchemy>=1.3.0->optuna) (2.0.1)\n",
            "Collecting cmd2>=1.0.0\n",
            "  Downloading cmd2-2.4.2-py3-none-any.whl (147 kB)\n",
            "\u001b[K     |████████████████████████████████| 147 kB 16.8 MB/s \n",
            "\u001b[?25hRequirement already satisfied: PrettyTable>=0.7.2 in /usr/local/lib/python3.8/dist-packages (from cliff->optuna) (3.5.0)\n",
            "Collecting autopage>=0.4.0\n",
            "  Downloading autopage-0.5.1-py3-none-any.whl (29 kB)\n",
            "Collecting stevedore>=2.0.1\n",
            "  Downloading stevedore-4.1.1-py3-none-any.whl (50 kB)\n",
            "\u001b[K     |████████████████████████████████| 50 kB 1.8 MB/s \n",
            "\u001b[?25hRequirement already satisfied: wcwidth>=0.1.7 in /usr/local/lib/python3.8/dist-packages (from cmd2>=1.0.0->cliff->optuna) (0.2.5)\n",
            "Requirement already satisfied: attrs>=16.3.0 in /usr/local/lib/python3.8/dist-packages (from cmd2>=1.0.0->cliff->optuna) (22.1.0)\n",
            "Collecting pyperclip>=1.6\n",
            "  Downloading pyperclip-1.8.2.tar.gz (20 kB)\n",
            "Collecting pbr!=2.1.0,>=2.0.0\n",
            "  Downloading pbr-5.11.0-py2.py3-none-any.whl (112 kB)\n",
            "\u001b[K     |████████████████████████████████| 112 kB 53.7 MB/s \n",
            "\u001b[?25hRequirement already satisfied: MarkupSafe>=0.9.2 in /usr/local/lib/python3.8/dist-packages (from Mako->alembic>=1.5.0->optuna) (2.0.1)\n",
            "Building wheels for collected packages: pyperclip\n",
            "  Building wheel for pyperclip (setup.py) ... \u001b[?25l\u001b[?25hdone\n",
            "  Created wheel for pyperclip: filename=pyperclip-1.8.2-py3-none-any.whl size=11136 sha256=bdbe120f2bcaa2be7851b91fabeda5e3c18ebf0b0d84f1cadcc372ea9c70a122\n",
            "  Stored in directory: /root/.cache/pip/wheels/7f/1a/65/84ff8c386bec21fca6d220ea1f5498a0367883a78dd5ba6122\n",
            "Successfully built pyperclip\n",
            "Installing collected packages: pyperclip, pbr, stevedore, Mako, cmd2, autopage, colorlog, cmaes, cliff, alembic, optuna\n",
            "Successfully installed Mako-1.2.4 alembic-1.8.1 autopage-0.5.1 cliff-4.1.0 cmaes-0.9.0 cmd2-2.4.2 colorlog-6.7.0 optuna-3.0.4 pbr-5.11.0 pyperclip-1.8.2 stevedore-4.1.1\n"
          ]
        }
      ]
    },
    {
      "cell_type": "code",
      "execution_count": null,
      "metadata": {
        "id": "cFSPJvVL7WDw",
        "colab": {
          "base_uri": "https://localhost:8080/"
        },
        "outputId": "c1176509-42b5-4604-8064-1d11e710fafa"
      },
      "outputs": [
        {
          "output_type": "stream",
          "name": "stdout",
          "text": [
            "Mounted at /content/drive\n"
          ]
        }
      ],
      "source": [
        "from google.colab import drive\n",
        "drive.mount('/content/drive')"
      ]
    },
    {
      "cell_type": "code",
      "source": [
        "import matplotlib.image as mpimg\n",
        "import matplotlib.pyplot as plt\n",
        "import os\n",
        "import numpy as np\n",
        "import torch\n",
        "import torch.nn as nn\n",
        "import seaborn as sns\n",
        "import time"
      ],
      "metadata": {
        "id": "FJLG5cvT9Ukb"
      },
      "execution_count": null,
      "outputs": []
    },
    {
      "cell_type": "code",
      "source": [
        "%cd drive/Shareddrives/'BE 500'/Dataset"
      ],
      "metadata": {
        "id": "4pmYLm3V9Xf5",
        "colab": {
          "base_uri": "https://localhost:8080/"
        },
        "outputId": "aa187a5b-77ac-40cc-d45d-a5edf5e4a0de"
      },
      "execution_count": null,
      "outputs": [
        {
          "output_type": "stream",
          "name": "stdout",
          "text": [
            "/content/drive/Shareddrives/BE 500/Dataset\n"
          ]
        }
      ]
    },
    {
      "cell_type": "code",
      "source": [
        "%cd .."
      ],
      "metadata": {
        "colab": {
          "base_uri": "https://localhost:8080/"
        },
        "id": "pJUOAkozkdN8",
        "outputId": "2e11bfb8-4df7-471d-f34b-670c718a1309"
      },
      "execution_count": null,
      "outputs": [
        {
          "output_type": "stream",
          "name": "stdout",
          "text": [
            "/content/drive/Shareddrives/BE 500\n"
          ]
        }
      ]
    },
    {
      "cell_type": "code",
      "source": [
        "num_classes = 1\n",
        "\n",
        "class LeNet5(nn.Module):\n",
        "    def __init__(self, num_classes):\n",
        "      super().__init__()\n",
        "\n",
        "      # First layer\n",
        "      self.conv1 = torch.nn.Conv2d(1,6,kernel_size=5, stride=1, padding=0)\n",
        "      self.bnorm = torch.nn.BatchNorm2d(6)\n",
        "      self.relu1 = torch.nn.ReLU()\n",
        "      self.pool1 = torch.nn.MaxPool2d(kernel_size = 2, stride = 2)\n",
        "\n",
        "      # Second layer\n",
        "      self.conv2 = torch.nn.Conv2d(6, 16, kernel_size=5, stride=1, padding=0)\n",
        "      self.bnorm2 = torch.nn.BatchNorm2d(16)\n",
        "      self.relu2 = torch.nn.ReLU()\n",
        "      self.pool2 = torch.nn.MaxPool2d(kernel_size = 2, stride = 2)\n",
        "\n",
        "      self.flatten=torch.nn.Flatten()\n",
        "\n",
        "      self.fc = torch.nn.Linear(293904, 400)\n",
        "      self.relu3 = torch.nn.ReLU()\n",
        "\n",
        "      self.fc1 = torch.nn.Linear(400, 120)\n",
        "      self.relu4 = torch.nn.ReLU()\n",
        "\n",
        "      self.fc2 = torch.nn.Linear(120, 84)\n",
        "      self.relu5 = torch.nn.ReLU()\n",
        "\n",
        "      self.fc3 = torch.nn.Linear(84, num_classes)\n",
        "\n",
        "      self.sigmoid=nn.Sigmoid()\n",
        "        \n",
        "    def forward(self, x):\n",
        "\n",
        "      out = self.conv1(x)\n",
        "      out = self.relu1(out)\n",
        "      out = self.pool1(out)\n",
        "      out = self.conv2(out)\n",
        "      out = self.relu2(out)\n",
        "      out = self.pool2(out)\n",
        "      out = self.flatten(out)\n",
        "      out = self.fc(out)\n",
        "      out = self.relu3(out)\n",
        "      out = self.fc1(out)\n",
        "      out = self.relu4(out)\n",
        "      out = self.fc2(out)\n",
        "      out = self.relu5(out)\n",
        "      out = self.fc3(out)\n",
        "      out = self.sigmoid(out)\n",
        "\n",
        "      return out"
      ],
      "metadata": {
        "id": "ItrFPvtx9jth"
      },
      "execution_count": null,
      "outputs": []
    },
    {
      "cell_type": "code",
      "source": [
        "#load in training variables and testing variables\n",
        "X_train=np.load('X_train.npy')\n",
        "y_train=np.load('y_train.npy')\n",
        "X_train = X_train.astype(np.float32)\n",
        "y_train = y_train.astype(np.float32)\n",
        "\n",
        "X_val = np.load('X_val.npy')\n",
        "y_val = np.load('y_val.npy')\n",
        "X_val = X_val.astype(np.float32)\n",
        "y_val = y_val.astype(np.float32)\n",
        "\n",
        "X_test=np.load('X_test.npy')\n",
        "y_test=np.load('y_test.npy')\n",
        "X_test = X_test.astype(np.float32)\n",
        "y_test = y_test.astype(np.float32)"
      ],
      "metadata": {
        "id": "TYfmANyQ9r4F"
      },
      "execution_count": null,
      "outputs": []
    },
    {
      "cell_type": "code",
      "source": [
        "#Reshape Xtrain\n",
        "Xtrain=torch.from_numpy(X_train)\n",
        "Xtrain=Xtrain.reshape((750,1,480,640))\n",
        "\n",
        "#Reshape Xval\n",
        "Xval=torch.from_numpy(X_val)\n",
        "Xval=Xval.reshape((150,1,480,640))\n",
        "\n",
        "#Reshape Xtest\n",
        "Xtest=torch.from_numpy(X_test)\n",
        "Xtest=Xtest.reshape((100,1,480,640))\n",
        "\n"
      ],
      "metadata": {
        "id": "mFCuHmjD9xYT"
      },
      "execution_count": null,
      "outputs": []
    },
    {
      "cell_type": "code",
      "source": [
        "ytrain = torch.from_numpy(y_train)\n",
        "yval = torch.from_numpy(y_val)"
      ],
      "metadata": {
        "id": "Y7Y4wGoJAggH"
      },
      "execution_count": null,
      "outputs": []
    },
    {
      "cell_type": "code",
      "source": [
        "#Use GPU if avaliable\n",
        "device = torch.device(\"cuda:0\" if torch.cuda.is_available() else \"cpu\")"
      ],
      "metadata": {
        "id": "16c3JADv-Fn-"
      },
      "execution_count": null,
      "outputs": []
    },
    {
      "cell_type": "code",
      "source": [
        "from torch.utils.data import DataLoader,TensorDataset, random_split\n",
        "\n",
        "dataset = TensorDataset(Xtrain, ytrain)\n",
        "trainloader=DataLoader(dataset=dataset,batch_size=64)\n",
        "\n",
        "dataset_val = TensorDataset(Xval, yval)\n",
        "valloader=DataLoader(dataset=dataset_val,batch_size=64)"
      ],
      "metadata": {
        "id": "C9QKtdo2AM97"
      },
      "execution_count": null,
      "outputs": []
    },
    {
      "cell_type": "code",
      "source": [
        "import optuna\n",
        "import torch\n",
        "import torch.nn as nn\n",
        "import torch.optim as optim\n",
        "import pandas as pd\n",
        "import numpy as np\n",
        "from sklearn.model_selection import train_test_split\n",
        "\n",
        "\n",
        "EPOCHS=30\n",
        "  \n",
        "# Train and evaluate the accuarcy of neural network model\n",
        "def train_and_evaluate(param, model,train_dataloader,val_dataloader):\n",
        "    \n",
        "    \n",
        "\n",
        "    use_cuda = torch.cuda.is_available()\n",
        "    device = torch.device(\"cuda\" if use_cuda else \"cpu\")\n",
        "\n",
        "    criterion = torch.nn.BCELoss()\n",
        "    optimizer = getattr(optim, param['optimizer'])(model.parameters(), lr= param['learning_rate'])\n",
        "\n",
        "    if use_cuda:\n",
        "\n",
        "            model = model.cuda()\n",
        "            criterion = criterion.cuda()\n",
        "\n",
        "    for epoch_num in range(EPOCHS):\n",
        "\n",
        "            total_acc_train = 0\n",
        "            total_loss_train = 0\n",
        "\n",
        "            for train_input, train_label in train_dataloader:\n",
        "\n",
        "                train_label = train_label.to(device)\n",
        "                train_input = train_input.to(device)\n",
        "\n",
        "                output = model(train_input.float())\n",
        "                \n",
        "                batch_loss = criterion(output, train_label.float())\n",
        "                total_loss_train += batch_loss.item()\n",
        "                \n",
        "                acc = (output.round() == train_label).sum().item()\n",
        "                total_acc_train += acc\n",
        "\n",
        "                model.zero_grad()\n",
        "                batch_loss.backward()\n",
        "                optimizer.step()\n",
        "            \n",
        "            total_acc_val = 0\n",
        "            total_loss_val = 0\n",
        "\n",
        "            with torch.no_grad():\n",
        "\n",
        "                for val_input, val_label in val_dataloader:\n",
        "\n",
        "                    val_label = val_label.to(device)\n",
        "                    val_input = val_input.to(device)\n",
        "\n",
        "                    output = model(val_input.float())\n",
        "\n",
        "                    batch_loss = criterion(output, val_label.float())\n",
        "                    total_loss_val += batch_loss.item()\n",
        "                    \n",
        "                    acc = (output.round() == val_label).sum().item()\n",
        "                    total_acc_val += acc\n",
        "            \n",
        "            accuracy = total_acc_val/150\n",
        "\n",
        "    return accuracy\n",
        "  \n",
        " # Define a set of hyperparameter values, build the model, train the model, and evaluate the accuracy \n",
        "def objective(trial):\n",
        "\n",
        "     params = {\n",
        "              'learning_rate': trial.suggest_loguniform('learning_rate', 1e-5, 1e-1),\n",
        "              'optimizer': trial.suggest_categorical(\"optimizer\", [\"Adam\", \"RMSprop\", \"SGD\"]),\n",
        "              }\n",
        "    \n",
        "     model = LeNet5(1)\n",
        "    \n",
        "     accuracy = train_and_evaluate(params, model,trainloader,valloader)\n",
        "\n",
        "     return accuracy"
      ],
      "metadata": {
        "id": "In5aeH-d-Hux"
      },
      "execution_count": null,
      "outputs": []
    },
    {
      "cell_type": "code",
      "source": [
        "study = optuna.create_study(direction=\"maximize\", sampler=optuna.samplers.TPESampler())\n",
        "study.optimize(objective, n_trials=30)"
      ],
      "metadata": {
        "colab": {
          "base_uri": "https://localhost:8080/"
        },
        "id": "QXPh2Q6O__v7",
        "outputId": "af9a008f-3102-4ce0-de9f-955bbe357814"
      },
      "execution_count": null,
      "outputs": [
        {
          "output_type": "stream",
          "name": "stderr",
          "text": [
            "\u001b[32m[I 2022-12-12 02:42:50,043]\u001b[0m A new study created in memory with name: no-name-d87b50d8-1d4b-4f4d-aede-2218149fe93c\u001b[0m\n",
            "<ipython-input-11-969d37fb42da>:76: FutureWarning: suggest_loguniform has been deprecated in v3.0.0. This feature will be removed in v6.0.0. See https://github.com/optuna/optuna/releases/tag/v3.0.0. Use :func:`~optuna.trial.Trial.suggest_float` instead.\n",
            "  'learning_rate': trial.suggest_loguniform('learning_rate', 1e-5, 1e-1),\n",
            "\u001b[32m[I 2022-12-12 02:44:10,521]\u001b[0m Trial 0 finished with value: 0.9066666666666666 and parameters: {'learning_rate': 0.0037866193363966377, 'optimizer': 'SGD'}. Best is trial 0 with value: 0.9066666666666666.\u001b[0m\n",
            "\u001b[32m[I 2022-12-12 02:45:32,995]\u001b[0m Trial 1 finished with value: 0.5133333333333333 and parameters: {'learning_rate': 0.0008675989253230231, 'optimizer': 'Adam'}. Best is trial 0 with value: 0.9066666666666666.\u001b[0m\n",
            "\u001b[32m[I 2022-12-12 02:46:57,785]\u001b[0m Trial 2 finished with value: 0.9266666666666666 and parameters: {'learning_rate': 0.00015977542670628632, 'optimizer': 'Adam'}. Best is trial 2 with value: 0.9266666666666666.\u001b[0m\n",
            "\u001b[32m[I 2022-12-12 02:48:15,912]\u001b[0m Trial 3 finished with value: 0.4866666666666667 and parameters: {'learning_rate': 0.048134416160692604, 'optimizer': 'RMSprop'}. Best is trial 2 with value: 0.9266666666666666.\u001b[0m\n",
            "\u001b[32m[I 2022-12-12 02:49:28,227]\u001b[0m Trial 4 finished with value: 0.5133333333333333 and parameters: {'learning_rate': 0.012161801564061606, 'optimizer': 'SGD'}. Best is trial 2 with value: 0.9266666666666666.\u001b[0m\n",
            "\u001b[32m[I 2022-12-12 02:50:48,159]\u001b[0m Trial 5 finished with value: 0.4866666666666667 and parameters: {'learning_rate': 0.005795825885186041, 'optimizer': 'RMSprop'}. Best is trial 2 with value: 0.9266666666666666.\u001b[0m\n",
            "\u001b[32m[I 2022-12-12 02:52:08,242]\u001b[0m Trial 6 finished with value: 0.9066666666666666 and parameters: {'learning_rate': 0.0006536501623442119, 'optimizer': 'RMSprop'}. Best is trial 2 with value: 0.9266666666666666.\u001b[0m\n",
            "\u001b[32m[I 2022-12-12 02:53:28,099]\u001b[0m Trial 7 finished with value: 0.5133333333333333 and parameters: {'learning_rate': 0.001114936588051297, 'optimizer': 'RMSprop'}. Best is trial 2 with value: 0.9266666666666666.\u001b[0m\n",
            "\u001b[32m[I 2022-12-12 02:54:40,554]\u001b[0m Trial 8 finished with value: 0.5133333333333333 and parameters: {'learning_rate': 0.0748646748129804, 'optimizer': 'SGD'}. Best is trial 2 with value: 0.9266666666666666.\u001b[0m\n",
            "\u001b[32m[I 2022-12-12 02:56:06,131]\u001b[0m Trial 9 finished with value: 0.9333333333333333 and parameters: {'learning_rate': 0.0009771252072606372, 'optimizer': 'Adam'}. Best is trial 9 with value: 0.9333333333333333.\u001b[0m\n",
            "\u001b[32m[I 2022-12-12 02:57:32,392]\u001b[0m Trial 10 finished with value: 0.94 and parameters: {'learning_rate': 1.236761505150666e-05, 'optimizer': 'Adam'}. Best is trial 10 with value: 0.94.\u001b[0m\n",
            "\u001b[32m[I 2022-12-12 02:58:58,409]\u001b[0m Trial 11 finished with value: 0.9466666666666667 and parameters: {'learning_rate': 2.2909225639510037e-05, 'optimizer': 'Adam'}. Best is trial 11 with value: 0.9466666666666667.\u001b[0m\n",
            "\u001b[32m[I 2022-12-12 03:00:24,716]\u001b[0m Trial 12 finished with value: 0.94 and parameters: {'learning_rate': 1.1944232199318119e-05, 'optimizer': 'Adam'}. Best is trial 11 with value: 0.9466666666666667.\u001b[0m\n",
            "\u001b[32m[I 2022-12-12 03:01:51,045]\u001b[0m Trial 13 finished with value: 0.9466666666666667 and parameters: {'learning_rate': 1.0772732875687134e-05, 'optimizer': 'Adam'}. Best is trial 11 with value: 0.9466666666666667.\u001b[0m\n",
            "\u001b[32m[I 2022-12-12 03:03:17,382]\u001b[0m Trial 14 finished with value: 0.9266666666666666 and parameters: {'learning_rate': 6.164316837894904e-05, 'optimizer': 'Adam'}. Best is trial 11 with value: 0.9466666666666667.\u001b[0m\n",
            "\u001b[32m[I 2022-12-12 03:04:43,498]\u001b[0m Trial 15 finished with value: 0.9533333333333334 and parameters: {'learning_rate': 3.795899556767346e-05, 'optimizer': 'Adam'}. Best is trial 15 with value: 0.9533333333333334.\u001b[0m\n",
            "\u001b[32m[I 2022-12-12 03:06:09,602]\u001b[0m Trial 16 finished with value: 0.94 and parameters: {'learning_rate': 8.970655160538989e-05, 'optimizer': 'Adam'}. Best is trial 15 with value: 0.9533333333333334.\u001b[0m\n",
            "\u001b[32m[I 2022-12-12 03:07:35,965]\u001b[0m Trial 17 finished with value: 0.9333333333333333 and parameters: {'learning_rate': 4.3179793851319785e-05, 'optimizer': 'Adam'}. Best is trial 15 with value: 0.9533333333333334.\u001b[0m\n",
            "\u001b[32m[I 2022-12-12 03:09:00,981]\u001b[0m Trial 18 finished with value: 0.5133333333333333 and parameters: {'learning_rate': 0.0002154140220702933, 'optimizer': 'Adam'}. Best is trial 15 with value: 0.9533333333333334.\u001b[0m\n",
            "\u001b[32m[I 2022-12-12 03:10:15,404]\u001b[0m Trial 19 finished with value: 0.92 and parameters: {'learning_rate': 2.834036858962675e-05, 'optimizer': 'SGD'}. Best is trial 15 with value: 0.9533333333333334.\u001b[0m\n",
            "\u001b[32m[I 2022-12-12 03:11:40,311]\u001b[0m Trial 20 finished with value: 0.5133333333333333 and parameters: {'learning_rate': 0.0003020588611031142, 'optimizer': 'Adam'}. Best is trial 15 with value: 0.9533333333333334.\u001b[0m\n",
            "\u001b[32m[I 2022-12-12 03:13:06,529]\u001b[0m Trial 21 finished with value: 0.9533333333333334 and parameters: {'learning_rate': 2.570066526040585e-05, 'optimizer': 'Adam'}. Best is trial 15 with value: 0.9533333333333334.\u001b[0m\n",
            "\u001b[32m[I 2022-12-12 03:14:32,735]\u001b[0m Trial 22 finished with value: 0.9466666666666667 and parameters: {'learning_rate': 1.0246374631988571e-05, 'optimizer': 'Adam'}. Best is trial 15 with value: 0.9533333333333334.\u001b[0m\n",
            "\u001b[32m[I 2022-12-12 03:15:58,590]\u001b[0m Trial 23 finished with value: 0.9266666666666666 and parameters: {'learning_rate': 2.345145856030076e-05, 'optimizer': 'Adam'}. Best is trial 15 with value: 0.9533333333333334.\u001b[0m\n",
            "\u001b[32m[I 2022-12-12 03:17:24,499]\u001b[0m Trial 24 finished with value: 0.94 and parameters: {'learning_rate': 8.069082023463351e-05, 'optimizer': 'Adam'}. Best is trial 15 with value: 0.9533333333333334.\u001b[0m\n",
            "\u001b[32m[I 2022-12-12 03:18:50,511]\u001b[0m Trial 25 finished with value: 0.9333333333333333 and parameters: {'learning_rate': 0.0001420814769147898, 'optimizer': 'Adam'}. Best is trial 15 with value: 0.9533333333333334.\u001b[0m\n",
            "\u001b[32m[I 2022-12-12 03:20:16,726]\u001b[0m Trial 26 finished with value: 0.94 and parameters: {'learning_rate': 3.491304664932934e-05, 'optimizer': 'Adam'}. Best is trial 15 with value: 0.9533333333333334.\u001b[0m\n",
            "\u001b[32m[I 2022-12-12 03:21:42,487]\u001b[0m Trial 27 finished with value: 0.9 and parameters: {'learning_rate': 0.00033924921235515935, 'optimizer': 'Adam'}. Best is trial 15 with value: 0.9533333333333334.\u001b[0m\n",
            "\u001b[32m[I 2022-12-12 03:23:03,828]\u001b[0m Trial 28 finished with value: 0.9266666666666666 and parameters: {'learning_rate': 1.869666492905783e-05, 'optimizer': 'RMSprop'}. Best is trial 15 with value: 0.9533333333333334.\u001b[0m\n",
            "\u001b[32m[I 2022-12-12 03:24:18,852]\u001b[0m Trial 29 finished with value: 0.9066666666666666 and parameters: {'learning_rate': 4.880739631582087e-05, 'optimizer': 'SGD'}. Best is trial 15 with value: 0.9533333333333334.\u001b[0m\n"
          ]
        }
      ]
    },
    {
      "cell_type": "code",
      "source": [
        "optuna.visualization.plot_optimization_history(study)"
      ],
      "metadata": {
        "colab": {
          "base_uri": "https://localhost:8080/",
          "height": 542
        },
        "id": "tZUgcrW8XNUK",
        "outputId": "155a5f71-f919-4a16-8056-0a9c822f0011"
      },
      "execution_count": null,
      "outputs": [
        {
          "output_type": "display_data",
          "data": {
            "text/html": [
              "<html>\n",
              "<head><meta charset=\"utf-8\" /></head>\n",
              "<body>\n",
              "    <div>            <script src=\"https://cdnjs.cloudflare.com/ajax/libs/mathjax/2.7.5/MathJax.js?config=TeX-AMS-MML_SVG\"></script><script type=\"text/javascript\">if (window.MathJax) {MathJax.Hub.Config({SVG: {font: \"STIX-Web\"}});}</script>                <script type=\"text/javascript\">window.PlotlyConfig = {MathJaxConfig: 'local'};</script>\n",
              "        <script src=\"https://cdn.plot.ly/plotly-2.8.3.min.js\"></script>                <div id=\"0dd9a8e5-be1a-49a5-8d18-fafd9f4e774d\" class=\"plotly-graph-div\" style=\"height:525px; width:100%;\"></div>            <script type=\"text/javascript\">                                    window.PLOTLYENV=window.PLOTLYENV || {};                                    if (document.getElementById(\"0dd9a8e5-be1a-49a5-8d18-fafd9f4e774d\")) {                    Plotly.newPlot(                        \"0dd9a8e5-be1a-49a5-8d18-fafd9f4e774d\",                        [{\"mode\":\"markers\",\"name\":\"Objective Value\",\"x\":[0,1,2,3,4,5,6,7,8,9,10,11,12,13,14,15,16,17,18,19,20,21,22,23,24,25,26,27,28,29],\"y\":[0.9066666666666666,0.5133333333333333,0.9266666666666666,0.4866666666666667,0.5133333333333333,0.4866666666666667,0.9066666666666666,0.5133333333333333,0.5133333333333333,0.9333333333333333,0.94,0.9466666666666667,0.94,0.9466666666666667,0.9266666666666666,0.9533333333333334,0.94,0.9333333333333333,0.5133333333333333,0.92,0.5133333333333333,0.9533333333333334,0.9466666666666667,0.9266666666666666,0.94,0.9333333333333333,0.94,0.9,0.9266666666666666,0.9066666666666666],\"type\":\"scatter\"},{\"name\":\"Best Value\",\"x\":[0,1,2,3,4,5,6,7,8,9,10,11,12,13,14,15,16,17,18,19,20,21,22,23,24,25,26,27,28,29],\"y\":[0.9066666666666666,0.9066666666666666,0.9266666666666666,0.9266666666666666,0.9266666666666666,0.9266666666666666,0.9266666666666666,0.9266666666666666,0.9266666666666666,0.9333333333333333,0.94,0.9466666666666667,0.9466666666666667,0.9466666666666667,0.9466666666666667,0.9533333333333334,0.9533333333333334,0.9533333333333334,0.9533333333333334,0.9533333333333334,0.9533333333333334,0.9533333333333334,0.9533333333333334,0.9533333333333334,0.9533333333333334,0.9533333333333334,0.9533333333333334,0.9533333333333334,0.9533333333333334,0.9533333333333334],\"type\":\"scatter\"}],                        {\"title\":{\"text\":\"Optimization History Plot\"},\"xaxis\":{\"title\":{\"text\":\"Trial\"}},\"yaxis\":{\"title\":{\"text\":\"Objective Value\"}},\"template\":{\"data\":{\"bar\":[{\"error_x\":{\"color\":\"#2a3f5f\"},\"error_y\":{\"color\":\"#2a3f5f\"},\"marker\":{\"line\":{\"color\":\"#E5ECF6\",\"width\":0.5},\"pattern\":{\"fillmode\":\"overlay\",\"size\":10,\"solidity\":0.2}},\"type\":\"bar\"}],\"barpolar\":[{\"marker\":{\"line\":{\"color\":\"#E5ECF6\",\"width\":0.5},\"pattern\":{\"fillmode\":\"overlay\",\"size\":10,\"solidity\":0.2}},\"type\":\"barpolar\"}],\"carpet\":[{\"aaxis\":{\"endlinecolor\":\"#2a3f5f\",\"gridcolor\":\"white\",\"linecolor\":\"white\",\"minorgridcolor\":\"white\",\"startlinecolor\":\"#2a3f5f\"},\"baxis\":{\"endlinecolor\":\"#2a3f5f\",\"gridcolor\":\"white\",\"linecolor\":\"white\",\"minorgridcolor\":\"white\",\"startlinecolor\":\"#2a3f5f\"},\"type\":\"carpet\"}],\"choropleth\":[{\"colorbar\":{\"outlinewidth\":0,\"ticks\":\"\"},\"type\":\"choropleth\"}],\"contour\":[{\"colorbar\":{\"outlinewidth\":0,\"ticks\":\"\"},\"colorscale\":[[0.0,\"#0d0887\"],[0.1111111111111111,\"#46039f\"],[0.2222222222222222,\"#7201a8\"],[0.3333333333333333,\"#9c179e\"],[0.4444444444444444,\"#bd3786\"],[0.5555555555555556,\"#d8576b\"],[0.6666666666666666,\"#ed7953\"],[0.7777777777777778,\"#fb9f3a\"],[0.8888888888888888,\"#fdca26\"],[1.0,\"#f0f921\"]],\"type\":\"contour\"}],\"contourcarpet\":[{\"colorbar\":{\"outlinewidth\":0,\"ticks\":\"\"},\"type\":\"contourcarpet\"}],\"heatmap\":[{\"colorbar\":{\"outlinewidth\":0,\"ticks\":\"\"},\"colorscale\":[[0.0,\"#0d0887\"],[0.1111111111111111,\"#46039f\"],[0.2222222222222222,\"#7201a8\"],[0.3333333333333333,\"#9c179e\"],[0.4444444444444444,\"#bd3786\"],[0.5555555555555556,\"#d8576b\"],[0.6666666666666666,\"#ed7953\"],[0.7777777777777778,\"#fb9f3a\"],[0.8888888888888888,\"#fdca26\"],[1.0,\"#f0f921\"]],\"type\":\"heatmap\"}],\"heatmapgl\":[{\"colorbar\":{\"outlinewidth\":0,\"ticks\":\"\"},\"colorscale\":[[0.0,\"#0d0887\"],[0.1111111111111111,\"#46039f\"],[0.2222222222222222,\"#7201a8\"],[0.3333333333333333,\"#9c179e\"],[0.4444444444444444,\"#bd3786\"],[0.5555555555555556,\"#d8576b\"],[0.6666666666666666,\"#ed7953\"],[0.7777777777777778,\"#fb9f3a\"],[0.8888888888888888,\"#fdca26\"],[1.0,\"#f0f921\"]],\"type\":\"heatmapgl\"}],\"histogram\":[{\"marker\":{\"pattern\":{\"fillmode\":\"overlay\",\"size\":10,\"solidity\":0.2}},\"type\":\"histogram\"}],\"histogram2d\":[{\"colorbar\":{\"outlinewidth\":0,\"ticks\":\"\"},\"colorscale\":[[0.0,\"#0d0887\"],[0.1111111111111111,\"#46039f\"],[0.2222222222222222,\"#7201a8\"],[0.3333333333333333,\"#9c179e\"],[0.4444444444444444,\"#bd3786\"],[0.5555555555555556,\"#d8576b\"],[0.6666666666666666,\"#ed7953\"],[0.7777777777777778,\"#fb9f3a\"],[0.8888888888888888,\"#fdca26\"],[1.0,\"#f0f921\"]],\"type\":\"histogram2d\"}],\"histogram2dcontour\":[{\"colorbar\":{\"outlinewidth\":0,\"ticks\":\"\"},\"colorscale\":[[0.0,\"#0d0887\"],[0.1111111111111111,\"#46039f\"],[0.2222222222222222,\"#7201a8\"],[0.3333333333333333,\"#9c179e\"],[0.4444444444444444,\"#bd3786\"],[0.5555555555555556,\"#d8576b\"],[0.6666666666666666,\"#ed7953\"],[0.7777777777777778,\"#fb9f3a\"],[0.8888888888888888,\"#fdca26\"],[1.0,\"#f0f921\"]],\"type\":\"histogram2dcontour\"}],\"mesh3d\":[{\"colorbar\":{\"outlinewidth\":0,\"ticks\":\"\"},\"type\":\"mesh3d\"}],\"parcoords\":[{\"line\":{\"colorbar\":{\"outlinewidth\":0,\"ticks\":\"\"}},\"type\":\"parcoords\"}],\"pie\":[{\"automargin\":true,\"type\":\"pie\"}],\"scatter\":[{\"marker\":{\"colorbar\":{\"outlinewidth\":0,\"ticks\":\"\"}},\"type\":\"scatter\"}],\"scatter3d\":[{\"line\":{\"colorbar\":{\"outlinewidth\":0,\"ticks\":\"\"}},\"marker\":{\"colorbar\":{\"outlinewidth\":0,\"ticks\":\"\"}},\"type\":\"scatter3d\"}],\"scattercarpet\":[{\"marker\":{\"colorbar\":{\"outlinewidth\":0,\"ticks\":\"\"}},\"type\":\"scattercarpet\"}],\"scattergeo\":[{\"marker\":{\"colorbar\":{\"outlinewidth\":0,\"ticks\":\"\"}},\"type\":\"scattergeo\"}],\"scattergl\":[{\"marker\":{\"colorbar\":{\"outlinewidth\":0,\"ticks\":\"\"}},\"type\":\"scattergl\"}],\"scattermapbox\":[{\"marker\":{\"colorbar\":{\"outlinewidth\":0,\"ticks\":\"\"}},\"type\":\"scattermapbox\"}],\"scatterpolar\":[{\"marker\":{\"colorbar\":{\"outlinewidth\":0,\"ticks\":\"\"}},\"type\":\"scatterpolar\"}],\"scatterpolargl\":[{\"marker\":{\"colorbar\":{\"outlinewidth\":0,\"ticks\":\"\"}},\"type\":\"scatterpolargl\"}],\"scatterternary\":[{\"marker\":{\"colorbar\":{\"outlinewidth\":0,\"ticks\":\"\"}},\"type\":\"scatterternary\"}],\"surface\":[{\"colorbar\":{\"outlinewidth\":0,\"ticks\":\"\"},\"colorscale\":[[0.0,\"#0d0887\"],[0.1111111111111111,\"#46039f\"],[0.2222222222222222,\"#7201a8\"],[0.3333333333333333,\"#9c179e\"],[0.4444444444444444,\"#bd3786\"],[0.5555555555555556,\"#d8576b\"],[0.6666666666666666,\"#ed7953\"],[0.7777777777777778,\"#fb9f3a\"],[0.8888888888888888,\"#fdca26\"],[1.0,\"#f0f921\"]],\"type\":\"surface\"}],\"table\":[{\"cells\":{\"fill\":{\"color\":\"#EBF0F8\"},\"line\":{\"color\":\"white\"}},\"header\":{\"fill\":{\"color\":\"#C8D4E3\"},\"line\":{\"color\":\"white\"}},\"type\":\"table\"}]},\"layout\":{\"annotationdefaults\":{\"arrowcolor\":\"#2a3f5f\",\"arrowhead\":0,\"arrowwidth\":1},\"autotypenumbers\":\"strict\",\"coloraxis\":{\"colorbar\":{\"outlinewidth\":0,\"ticks\":\"\"}},\"colorscale\":{\"diverging\":[[0,\"#8e0152\"],[0.1,\"#c51b7d\"],[0.2,\"#de77ae\"],[0.3,\"#f1b6da\"],[0.4,\"#fde0ef\"],[0.5,\"#f7f7f7\"],[0.6,\"#e6f5d0\"],[0.7,\"#b8e186\"],[0.8,\"#7fbc41\"],[0.9,\"#4d9221\"],[1,\"#276419\"]],\"sequential\":[[0.0,\"#0d0887\"],[0.1111111111111111,\"#46039f\"],[0.2222222222222222,\"#7201a8\"],[0.3333333333333333,\"#9c179e\"],[0.4444444444444444,\"#bd3786\"],[0.5555555555555556,\"#d8576b\"],[0.6666666666666666,\"#ed7953\"],[0.7777777777777778,\"#fb9f3a\"],[0.8888888888888888,\"#fdca26\"],[1.0,\"#f0f921\"]],\"sequentialminus\":[[0.0,\"#0d0887\"],[0.1111111111111111,\"#46039f\"],[0.2222222222222222,\"#7201a8\"],[0.3333333333333333,\"#9c179e\"],[0.4444444444444444,\"#bd3786\"],[0.5555555555555556,\"#d8576b\"],[0.6666666666666666,\"#ed7953\"],[0.7777777777777778,\"#fb9f3a\"],[0.8888888888888888,\"#fdca26\"],[1.0,\"#f0f921\"]]},\"colorway\":[\"#636efa\",\"#EF553B\",\"#00cc96\",\"#ab63fa\",\"#FFA15A\",\"#19d3f3\",\"#FF6692\",\"#B6E880\",\"#FF97FF\",\"#FECB52\"],\"font\":{\"color\":\"#2a3f5f\"},\"geo\":{\"bgcolor\":\"white\",\"lakecolor\":\"white\",\"landcolor\":\"#E5ECF6\",\"showlakes\":true,\"showland\":true,\"subunitcolor\":\"white\"},\"hoverlabel\":{\"align\":\"left\"},\"hovermode\":\"closest\",\"mapbox\":{\"style\":\"light\"},\"paper_bgcolor\":\"white\",\"plot_bgcolor\":\"#E5ECF6\",\"polar\":{\"angularaxis\":{\"gridcolor\":\"white\",\"linecolor\":\"white\",\"ticks\":\"\"},\"bgcolor\":\"#E5ECF6\",\"radialaxis\":{\"gridcolor\":\"white\",\"linecolor\":\"white\",\"ticks\":\"\"}},\"scene\":{\"xaxis\":{\"backgroundcolor\":\"#E5ECF6\",\"gridcolor\":\"white\",\"gridwidth\":2,\"linecolor\":\"white\",\"showbackground\":true,\"ticks\":\"\",\"zerolinecolor\":\"white\"},\"yaxis\":{\"backgroundcolor\":\"#E5ECF6\",\"gridcolor\":\"white\",\"gridwidth\":2,\"linecolor\":\"white\",\"showbackground\":true,\"ticks\":\"\",\"zerolinecolor\":\"white\"},\"zaxis\":{\"backgroundcolor\":\"#E5ECF6\",\"gridcolor\":\"white\",\"gridwidth\":2,\"linecolor\":\"white\",\"showbackground\":true,\"ticks\":\"\",\"zerolinecolor\":\"white\"}},\"shapedefaults\":{\"line\":{\"color\":\"#2a3f5f\"}},\"ternary\":{\"aaxis\":{\"gridcolor\":\"white\",\"linecolor\":\"white\",\"ticks\":\"\"},\"baxis\":{\"gridcolor\":\"white\",\"linecolor\":\"white\",\"ticks\":\"\"},\"bgcolor\":\"#E5ECF6\",\"caxis\":{\"gridcolor\":\"white\",\"linecolor\":\"white\",\"ticks\":\"\"}},\"title\":{\"x\":0.05},\"xaxis\":{\"automargin\":true,\"gridcolor\":\"white\",\"linecolor\":\"white\",\"ticks\":\"\",\"title\":{\"standoff\":15},\"zerolinecolor\":\"white\",\"zerolinewidth\":2},\"yaxis\":{\"automargin\":true,\"gridcolor\":\"white\",\"linecolor\":\"white\",\"ticks\":\"\",\"title\":{\"standoff\":15},\"zerolinecolor\":\"white\",\"zerolinewidth\":2}}}},                        {\"responsive\": true}                    ).then(function(){\n",
              "                            \n",
              "var gd = document.getElementById('0dd9a8e5-be1a-49a5-8d18-fafd9f4e774d');\n",
              "var x = new MutationObserver(function (mutations, observer) {{\n",
              "        var display = window.getComputedStyle(gd).display;\n",
              "        if (!display || display === 'none') {{\n",
              "            console.log([gd, 'removed!']);\n",
              "            Plotly.purge(gd);\n",
              "            observer.disconnect();\n",
              "        }}\n",
              "}});\n",
              "\n",
              "// Listen for the removal of the full notebook cells\n",
              "var notebookContainer = gd.closest('#notebook-container');\n",
              "if (notebookContainer) {{\n",
              "    x.observe(notebookContainer, {childList: true});\n",
              "}}\n",
              "\n",
              "// Listen for the clearing of the current output cell\n",
              "var outputEl = gd.closest('.output');\n",
              "if (outputEl) {{\n",
              "    x.observe(outputEl, {childList: true});\n",
              "}}\n",
              "\n",
              "                        })                };                            </script>        </div>\n",
              "</body>\n",
              "</html>"
            ]
          },
          "metadata": {}
        }
      ]
    },
    {
      "cell_type": "code",
      "source": [
        "import matplotlib"
      ],
      "metadata": {
        "id": "uSpG4vioYy1S"
      },
      "execution_count": null,
      "outputs": []
    },
    {
      "cell_type": "code",
      "source": [
        "matplotlib.rc('xtick', labelsize=20) \n",
        "matplotlib.rc('ytick', labelsize=20) \n",
        "plt=optuna.visualization.plot_param_importances(study)\n",
        "plt.xtick"
      ],
      "metadata": {
        "colab": {
          "base_uri": "https://localhost:8080/",
          "height": 542
        },
        "id": "IBohNqqjXeH-",
        "outputId": "bbdf7e32-686b-40bc-acf0-93d3939a7521"
      },
      "execution_count": null,
      "outputs": [
        {
          "output_type": "display_data",
          "data": {
            "text/html": [
              "<html>\n",
              "<head><meta charset=\"utf-8\" /></head>\n",
              "<body>\n",
              "    <div>            <script src=\"https://cdnjs.cloudflare.com/ajax/libs/mathjax/2.7.5/MathJax.js?config=TeX-AMS-MML_SVG\"></script><script type=\"text/javascript\">if (window.MathJax) {MathJax.Hub.Config({SVG: {font: \"STIX-Web\"}});}</script>                <script type=\"text/javascript\">window.PlotlyConfig = {MathJaxConfig: 'local'};</script>\n",
              "        <script src=\"https://cdn.plot.ly/plotly-2.8.3.min.js\"></script>                <div id=\"b181c2b4-c818-44dc-9665-3a8a21232b25\" class=\"plotly-graph-div\" style=\"height:525px; width:100%;\"></div>            <script type=\"text/javascript\">                                    window.PLOTLYENV=window.PLOTLYENV || {};                                    if (document.getElementById(\"b181c2b4-c818-44dc-9665-3a8a21232b25\")) {                    Plotly.newPlot(                        \"b181c2b4-c818-44dc-9665-3a8a21232b25\",                        [{\"cliponaxis\":false,\"hovertemplate\":[\"optimizer (CategoricalDistribution): 0.20039788577845224<extra></extra>\",\"learning_rate (FloatDistribution): 0.7996021142215478<extra></extra>\"],\"marker\":{\"color\":\"rgb(66,146,198)\"},\"orientation\":\"h\",\"text\":[\"0.20\",\"0.80\"],\"textposition\":\"outside\",\"x\":[0.20039788577845224,0.7996021142215478],\"y\":[\"optimizer\",\"learning_rate\"],\"type\":\"bar\"}],                        {\"showlegend\":false,\"title\":{\"text\":\"Hyperparameter Importances\"},\"xaxis\":{\"title\":{\"text\":\"Importance for Objective Value\"}},\"yaxis\":{\"title\":{\"text\":\"Hyperparameter\"}},\"template\":{\"data\":{\"bar\":[{\"error_x\":{\"color\":\"#2a3f5f\"},\"error_y\":{\"color\":\"#2a3f5f\"},\"marker\":{\"line\":{\"color\":\"#E5ECF6\",\"width\":0.5},\"pattern\":{\"fillmode\":\"overlay\",\"size\":10,\"solidity\":0.2}},\"type\":\"bar\"}],\"barpolar\":[{\"marker\":{\"line\":{\"color\":\"#E5ECF6\",\"width\":0.5},\"pattern\":{\"fillmode\":\"overlay\",\"size\":10,\"solidity\":0.2}},\"type\":\"barpolar\"}],\"carpet\":[{\"aaxis\":{\"endlinecolor\":\"#2a3f5f\",\"gridcolor\":\"white\",\"linecolor\":\"white\",\"minorgridcolor\":\"white\",\"startlinecolor\":\"#2a3f5f\"},\"baxis\":{\"endlinecolor\":\"#2a3f5f\",\"gridcolor\":\"white\",\"linecolor\":\"white\",\"minorgridcolor\":\"white\",\"startlinecolor\":\"#2a3f5f\"},\"type\":\"carpet\"}],\"choropleth\":[{\"colorbar\":{\"outlinewidth\":0,\"ticks\":\"\"},\"type\":\"choropleth\"}],\"contour\":[{\"colorbar\":{\"outlinewidth\":0,\"ticks\":\"\"},\"colorscale\":[[0.0,\"#0d0887\"],[0.1111111111111111,\"#46039f\"],[0.2222222222222222,\"#7201a8\"],[0.3333333333333333,\"#9c179e\"],[0.4444444444444444,\"#bd3786\"],[0.5555555555555556,\"#d8576b\"],[0.6666666666666666,\"#ed7953\"],[0.7777777777777778,\"#fb9f3a\"],[0.8888888888888888,\"#fdca26\"],[1.0,\"#f0f921\"]],\"type\":\"contour\"}],\"contourcarpet\":[{\"colorbar\":{\"outlinewidth\":0,\"ticks\":\"\"},\"type\":\"contourcarpet\"}],\"heatmap\":[{\"colorbar\":{\"outlinewidth\":0,\"ticks\":\"\"},\"colorscale\":[[0.0,\"#0d0887\"],[0.1111111111111111,\"#46039f\"],[0.2222222222222222,\"#7201a8\"],[0.3333333333333333,\"#9c179e\"],[0.4444444444444444,\"#bd3786\"],[0.5555555555555556,\"#d8576b\"],[0.6666666666666666,\"#ed7953\"],[0.7777777777777778,\"#fb9f3a\"],[0.8888888888888888,\"#fdca26\"],[1.0,\"#f0f921\"]],\"type\":\"heatmap\"}],\"heatmapgl\":[{\"colorbar\":{\"outlinewidth\":0,\"ticks\":\"\"},\"colorscale\":[[0.0,\"#0d0887\"],[0.1111111111111111,\"#46039f\"],[0.2222222222222222,\"#7201a8\"],[0.3333333333333333,\"#9c179e\"],[0.4444444444444444,\"#bd3786\"],[0.5555555555555556,\"#d8576b\"],[0.6666666666666666,\"#ed7953\"],[0.7777777777777778,\"#fb9f3a\"],[0.8888888888888888,\"#fdca26\"],[1.0,\"#f0f921\"]],\"type\":\"heatmapgl\"}],\"histogram\":[{\"marker\":{\"pattern\":{\"fillmode\":\"overlay\",\"size\":10,\"solidity\":0.2}},\"type\":\"histogram\"}],\"histogram2d\":[{\"colorbar\":{\"outlinewidth\":0,\"ticks\":\"\"},\"colorscale\":[[0.0,\"#0d0887\"],[0.1111111111111111,\"#46039f\"],[0.2222222222222222,\"#7201a8\"],[0.3333333333333333,\"#9c179e\"],[0.4444444444444444,\"#bd3786\"],[0.5555555555555556,\"#d8576b\"],[0.6666666666666666,\"#ed7953\"],[0.7777777777777778,\"#fb9f3a\"],[0.8888888888888888,\"#fdca26\"],[1.0,\"#f0f921\"]],\"type\":\"histogram2d\"}],\"histogram2dcontour\":[{\"colorbar\":{\"outlinewidth\":0,\"ticks\":\"\"},\"colorscale\":[[0.0,\"#0d0887\"],[0.1111111111111111,\"#46039f\"],[0.2222222222222222,\"#7201a8\"],[0.3333333333333333,\"#9c179e\"],[0.4444444444444444,\"#bd3786\"],[0.5555555555555556,\"#d8576b\"],[0.6666666666666666,\"#ed7953\"],[0.7777777777777778,\"#fb9f3a\"],[0.8888888888888888,\"#fdca26\"],[1.0,\"#f0f921\"]],\"type\":\"histogram2dcontour\"}],\"mesh3d\":[{\"colorbar\":{\"outlinewidth\":0,\"ticks\":\"\"},\"type\":\"mesh3d\"}],\"parcoords\":[{\"line\":{\"colorbar\":{\"outlinewidth\":0,\"ticks\":\"\"}},\"type\":\"parcoords\"}],\"pie\":[{\"automargin\":true,\"type\":\"pie\"}],\"scatter\":[{\"marker\":{\"colorbar\":{\"outlinewidth\":0,\"ticks\":\"\"}},\"type\":\"scatter\"}],\"scatter3d\":[{\"line\":{\"colorbar\":{\"outlinewidth\":0,\"ticks\":\"\"}},\"marker\":{\"colorbar\":{\"outlinewidth\":0,\"ticks\":\"\"}},\"type\":\"scatter3d\"}],\"scattercarpet\":[{\"marker\":{\"colorbar\":{\"outlinewidth\":0,\"ticks\":\"\"}},\"type\":\"scattercarpet\"}],\"scattergeo\":[{\"marker\":{\"colorbar\":{\"outlinewidth\":0,\"ticks\":\"\"}},\"type\":\"scattergeo\"}],\"scattergl\":[{\"marker\":{\"colorbar\":{\"outlinewidth\":0,\"ticks\":\"\"}},\"type\":\"scattergl\"}],\"scattermapbox\":[{\"marker\":{\"colorbar\":{\"outlinewidth\":0,\"ticks\":\"\"}},\"type\":\"scattermapbox\"}],\"scatterpolar\":[{\"marker\":{\"colorbar\":{\"outlinewidth\":0,\"ticks\":\"\"}},\"type\":\"scatterpolar\"}],\"scatterpolargl\":[{\"marker\":{\"colorbar\":{\"outlinewidth\":0,\"ticks\":\"\"}},\"type\":\"scatterpolargl\"}],\"scatterternary\":[{\"marker\":{\"colorbar\":{\"outlinewidth\":0,\"ticks\":\"\"}},\"type\":\"scatterternary\"}],\"surface\":[{\"colorbar\":{\"outlinewidth\":0,\"ticks\":\"\"},\"colorscale\":[[0.0,\"#0d0887\"],[0.1111111111111111,\"#46039f\"],[0.2222222222222222,\"#7201a8\"],[0.3333333333333333,\"#9c179e\"],[0.4444444444444444,\"#bd3786\"],[0.5555555555555556,\"#d8576b\"],[0.6666666666666666,\"#ed7953\"],[0.7777777777777778,\"#fb9f3a\"],[0.8888888888888888,\"#fdca26\"],[1.0,\"#f0f921\"]],\"type\":\"surface\"}],\"table\":[{\"cells\":{\"fill\":{\"color\":\"#EBF0F8\"},\"line\":{\"color\":\"white\"}},\"header\":{\"fill\":{\"color\":\"#C8D4E3\"},\"line\":{\"color\":\"white\"}},\"type\":\"table\"}]},\"layout\":{\"annotationdefaults\":{\"arrowcolor\":\"#2a3f5f\",\"arrowhead\":0,\"arrowwidth\":1},\"autotypenumbers\":\"strict\",\"coloraxis\":{\"colorbar\":{\"outlinewidth\":0,\"ticks\":\"\"}},\"colorscale\":{\"diverging\":[[0,\"#8e0152\"],[0.1,\"#c51b7d\"],[0.2,\"#de77ae\"],[0.3,\"#f1b6da\"],[0.4,\"#fde0ef\"],[0.5,\"#f7f7f7\"],[0.6,\"#e6f5d0\"],[0.7,\"#b8e186\"],[0.8,\"#7fbc41\"],[0.9,\"#4d9221\"],[1,\"#276419\"]],\"sequential\":[[0.0,\"#0d0887\"],[0.1111111111111111,\"#46039f\"],[0.2222222222222222,\"#7201a8\"],[0.3333333333333333,\"#9c179e\"],[0.4444444444444444,\"#bd3786\"],[0.5555555555555556,\"#d8576b\"],[0.6666666666666666,\"#ed7953\"],[0.7777777777777778,\"#fb9f3a\"],[0.8888888888888888,\"#fdca26\"],[1.0,\"#f0f921\"]],\"sequentialminus\":[[0.0,\"#0d0887\"],[0.1111111111111111,\"#46039f\"],[0.2222222222222222,\"#7201a8\"],[0.3333333333333333,\"#9c179e\"],[0.4444444444444444,\"#bd3786\"],[0.5555555555555556,\"#d8576b\"],[0.6666666666666666,\"#ed7953\"],[0.7777777777777778,\"#fb9f3a\"],[0.8888888888888888,\"#fdca26\"],[1.0,\"#f0f921\"]]},\"colorway\":[\"#636efa\",\"#EF553B\",\"#00cc96\",\"#ab63fa\",\"#FFA15A\",\"#19d3f3\",\"#FF6692\",\"#B6E880\",\"#FF97FF\",\"#FECB52\"],\"font\":{\"color\":\"#2a3f5f\"},\"geo\":{\"bgcolor\":\"white\",\"lakecolor\":\"white\",\"landcolor\":\"#E5ECF6\",\"showlakes\":true,\"showland\":true,\"subunitcolor\":\"white\"},\"hoverlabel\":{\"align\":\"left\"},\"hovermode\":\"closest\",\"mapbox\":{\"style\":\"light\"},\"paper_bgcolor\":\"white\",\"plot_bgcolor\":\"#E5ECF6\",\"polar\":{\"angularaxis\":{\"gridcolor\":\"white\",\"linecolor\":\"white\",\"ticks\":\"\"},\"bgcolor\":\"#E5ECF6\",\"radialaxis\":{\"gridcolor\":\"white\",\"linecolor\":\"white\",\"ticks\":\"\"}},\"scene\":{\"xaxis\":{\"backgroundcolor\":\"#E5ECF6\",\"gridcolor\":\"white\",\"gridwidth\":2,\"linecolor\":\"white\",\"showbackground\":true,\"ticks\":\"\",\"zerolinecolor\":\"white\"},\"yaxis\":{\"backgroundcolor\":\"#E5ECF6\",\"gridcolor\":\"white\",\"gridwidth\":2,\"linecolor\":\"white\",\"showbackground\":true,\"ticks\":\"\",\"zerolinecolor\":\"white\"},\"zaxis\":{\"backgroundcolor\":\"#E5ECF6\",\"gridcolor\":\"white\",\"gridwidth\":2,\"linecolor\":\"white\",\"showbackground\":true,\"ticks\":\"\",\"zerolinecolor\":\"white\"}},\"shapedefaults\":{\"line\":{\"color\":\"#2a3f5f\"}},\"ternary\":{\"aaxis\":{\"gridcolor\":\"white\",\"linecolor\":\"white\",\"ticks\":\"\"},\"baxis\":{\"gridcolor\":\"white\",\"linecolor\":\"white\",\"ticks\":\"\"},\"bgcolor\":\"#E5ECF6\",\"caxis\":{\"gridcolor\":\"white\",\"linecolor\":\"white\",\"ticks\":\"\"}},\"title\":{\"x\":0.05},\"xaxis\":{\"automargin\":true,\"gridcolor\":\"white\",\"linecolor\":\"white\",\"ticks\":\"\",\"title\":{\"standoff\":15},\"zerolinecolor\":\"white\",\"zerolinewidth\":2},\"yaxis\":{\"automargin\":true,\"gridcolor\":\"white\",\"linecolor\":\"white\",\"ticks\":\"\",\"title\":{\"standoff\":15},\"zerolinecolor\":\"white\",\"zerolinewidth\":2}}}},                        {\"responsive\": true}                    ).then(function(){\n",
              "                            \n",
              "var gd = document.getElementById('b181c2b4-c818-44dc-9665-3a8a21232b25');\n",
              "var x = new MutationObserver(function (mutations, observer) {{\n",
              "        var display = window.getComputedStyle(gd).display;\n",
              "        if (!display || display === 'none') {{\n",
              "            console.log([gd, 'removed!']);\n",
              "            Plotly.purge(gd);\n",
              "            observer.disconnect();\n",
              "        }}\n",
              "}});\n",
              "\n",
              "// Listen for the removal of the full notebook cells\n",
              "var notebookContainer = gd.closest('#notebook-container');\n",
              "if (notebookContainer) {{\n",
              "    x.observe(notebookContainer, {childList: true});\n",
              "}}\n",
              "\n",
              "// Listen for the clearing of the current output cell\n",
              "var outputEl = gd.closest('.output');\n",
              "if (outputEl) {{\n",
              "    x.observe(outputEl, {childList: true});\n",
              "}}\n",
              "\n",
              "                        })                };                            </script>        </div>\n",
              "</body>\n",
              "</html>"
            ]
          },
          "metadata": {}
        }
      ]
    },
    {
      "cell_type": "code",
      "source": [
        "best_trial = study.best_trial\n",
        "\n",
        "for key, value in best_trial.params.items():\n",
        "    print(\"{}: {}\".format(key, value))"
      ],
      "metadata": {
        "colab": {
          "base_uri": "https://localhost:8080/"
        },
        "id": "5LQWyRoJX-a-",
        "outputId": "0ef5a6e7-bcb0-46b5-ab73-eb9eee1598f4"
      },
      "execution_count": null,
      "outputs": [
        {
          "output_type": "stream",
          "name": "stdout",
          "text": [
            "learning_rate: 3.795899556767346e-05\n",
            "optimizer: Adam\n"
          ]
        }
      ]
    },
    {
      "cell_type": "code",
      "source": [
        "!jupyter nbconvert --to html \"HyperParameter-Tuning.ipynb\""
      ],
      "metadata": {
        "id": "dZvrfiXikglg",
        "outputId": "3db2a7d3-9b3f-458f-b72b-1e02cdc6f728",
        "colab": {
          "base_uri": "https://localhost:8080/"
        }
      },
      "execution_count": null,
      "outputs": [
        {
          "output_type": "stream",
          "name": "stdout",
          "text": [
            "[NbConvertApp] Converting notebook HyperParameter-Tuning.ipynb to html\n",
            "[NbConvertApp] Writing 342042 bytes to HyperParameter-Tuning.html\n"
          ]
        }
      ]
    }
  ]
}